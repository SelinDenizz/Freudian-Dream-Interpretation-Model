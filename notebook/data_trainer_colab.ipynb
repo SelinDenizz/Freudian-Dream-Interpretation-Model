{
  "cells": [
    {
      "cell_type": "markdown",
      "metadata": {
        "colab_type": "text",
        "id": "view-in-github"
      },
      "source": [
        "<a href=\"https://colab.research.google.com/github/SelinDenizz/Freudian-Dream-Interpretation-Model/blob/main/data_trainer_colab.ipynb\" target=\"_parent\"><img src=\"https://colab.research.google.com/assets/colab-badge.svg\" alt=\"Open In Colab\"/></a>"
      ]
    },
    {
      "cell_type": "code",
      "execution_count": null,
      "metadata": {
        "id": "dVe5gnA4puSK"
      },
      "outputs": [],
      "source": [
        "import importlib.util\n",
        "import os\n",
        "\n",
        "def is_installed(package_name):\n",
        "    return importlib.util.find_spec(package_name) is not None\n",
        "\n",
        "if not is_installed(\"unsloth\"):\n",
        "\n",
        "    !pip uninstall -y protobuf fsspec torch torchaudio torchvision\n",
        "    !pip install \"protobuf<4.0.0\" fsspec==2025.3.0\n",
        "    !pip install torch==2.6.0+cu124 torchaudio==2.6.0+cu124 torchvision==0.21.0+cu124 --index-url https://download.pytorch.org/whl/cu124\n",
        "    !pip install -q unsloth transformers peft datasets gradio pandas tqdm\n",
        "    !pip check\n",
        "\n",
        "    requirements_path = \"/content/drive/MyDrive/freudian_dream_analyzer/requirements.txt\"\n",
        "    !mkdir -p /content/drive/MyDrive/freudian_dream_analyzer\n",
        "    !pip freeze > \"{requirements_path}\"\n",
        "    print(f\"requirements.txt saved at {requirements_path}\")\n",
        "else:\n",
        "    print(\"Environment already installed, skipping setup.\")"
      ]
    },
    {
      "cell_type": "code",
      "execution_count": null,
      "metadata": {
      },
      "outputs": [],
      "source": [
        "# Runtime & GPU check\n",
        "import sys\n",
        "import torch\n",
        "\n",
        "IN_COLAB = 'google.colab' in sys.modules\n",
        "if IN_COLAB:\n",
        "    print(\"Running in Google Colab\")\n",
        "\n",
        "if torch.cuda.is_available():\n",
        "    print(f\"GPU is available: {torch.cuda.get_device_name(0)}\")\n",
        "    print(f\"CUDA Version: {torch.version.cuda}\")\n",
        "else:\n",
        "    print(\"No GPU available. Enable it from Runtime > Change runtime type.\")"
      ]
    },
    {
      "cell_type": "code",
      "execution_count": null,
      "metadata": {
      },
      "outputs": [],
      "source": [
        "# First, unmount if already mounted\n",
        "from google.colab import drive\n",
        "try:\n",
        "    drive.flush_and_unmount()\n",
        "    print('Existing drive mount was unmounted')\n",
        "except:\n",
        "    print('No existing drive mount')\n",
        "\n",
        "# Check and clean up the mount point\n",
        "import os\n",
        "import shutil\n",
        "if os.path.exists('/content/drive'):\n",
        "    if os.path.isdir('/content/drive') and os.listdir('/content/drive'):\n",
        "        shutil.rmtree('/content/drive')\n",
        "        print(\"Removed existing /content/drive directory and its contents\")\n",
        "\n",
        "    elif os.path.isfile('/content/drive'):\n",
        "        os.remove('/content/drive')\n",
        "        print(\"Removed existing /content/drive file\")\n",
        "\n",
        "os.makedirs('/content/drive', exist_ok=True)\n",
        "print(\"Created fresh /content/drive directory\")\n",
        "\n",
        "drive.mount('/content/drive')\n",
        "\n",
        "%cd /content/drive/MyDrive/freudian_dream_analyzer/\n",
        "\n",
        "import sys\n",
        "sys.path.append('/content/drive/MyDrive/freudian_dream_analyzer/')"
      ]
    },
    {
      "cell_type": "code",
      "execution_count": null,
      "metadata": {
        "id": "I9Ua1a8pEh-d"
      },
      "outputs": [],
      "source": [
        "import sys\n",
        "import importlib.util\n",
        "import os\n",
        "\n",
        "project_root = \"/content/drive/MyDrive/freudian_dream_analyzer\"\n",
        "sys.path.append(project_root)\n",
        "\n",
        "module_path = os.path.join(project_root, \"script/module/data_trainer.py\")\n",
        "\n",
        "spec = importlib.util.spec_from_file_location(\"data_trainer\", module_path)\n",
        "data_trainer = importlib.util.module_from_spec(spec)\n",
        "spec.loader.exec_module(data_trainer)\n",
        "\n",
        "UnslothTrainer = data_trainer.UnslothTrainer\n"
      ]
    },
    {
      "cell_type": "code",
      "execution_count": null,
      "metadata": {
        "id": "3zYMxsWlJqLZ"
      },
      "outputs": [],
      "source": [
        "trainer = UnslothTrainer(\n",
        "    model_name=\"meta-llama/Llama-2-7b-chat-hf\",\n",
        "    max_seq_length=2048,\n",
        "    micro_batch_size=1,\n",
        "    gradient_accumulation_steps=4,\n",
        "    num_epochs=3,\n",
        "    learning_rate=2e-4,\n",
        "    lora_r=int(16),\n",
        "    lora_alpha=32,\n",
        "    lora_dropout=0.05,\n",
        "    bf16=True,\n",
        "    tf32=False,\n",
        "    save_steps=100\n",
        ")\n",
        "\n",
        "model_path = trainer.finetune(\n",
        "    jsonl_file=\"/content/drive/MyDrive/freudian_dream_analyzer/data/dream/processed/fine_tuning_format/dreambank_finetune_llama.jsonl\",\n",
        "    output_dir=\"/content/drive/MyDrive/freudian_dream_analyzer/model/unsloth_model\"\n",
        ")"
      ]
    }
  ],
  "metadata": {
    "accelerator": "GPU",
    "colab": {
      "provenance": []
    },
    "kernelspec": {
      "display_name": "Python 3",
      "name": "python3"
    },
    "language_info": {
      "codemirror_mode": {
        "name": "ipython",
        "version": 3
      },
      "file_extension": ".py",
      "mimetype": "text/x-python",
      "name": "python",
      "nbconvert_exporter": "python",
      "pygments_lexer": "ipython3",
      "version": "3.11.2"
    }
  },
  "nbformat": 4,
  "nbformat_minor": 0
}
